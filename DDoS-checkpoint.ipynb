{
 "cells": [
  {
   "cell_type": "code",
   "execution_count": null,
   "id": "f4f1b94f-23a1-4cc3-816e-ebe8d88c70d4",
   "metadata": {},
   "outputs": [],
   "source": []
  }
 ],
 "metadata": {
  "kernelspec": {
   "display_name": "",
   "name": ""
  },
  "language_info": {
   "name": ""
  }
 },
 "nbformat": 4,
 "nbformat_minor": 5
}
